{
 "cells": [
  {
   "cell_type": "code",
   "execution_count": null,
   "metadata": {},
   "outputs": [],
   "source": []
  },
  {
   "cell_type": "code",
   "execution_count": 1,
   "metadata": {},
   "outputs": [],
   "source": [
    "### Spark Tutorial"
   ]
  },
  {
   "cell_type": "code",
   "execution_count": 2,
   "metadata": {
    "colab": {
     "base_uri": "https://localhost:8080/",
     "height": 263
    },
    "colab_type": "code",
    "id": "hAu6q3IySyPJ",
    "outputId": "11874e5c-093b-4764-b434-4e627b2ef1fd"
   },
   "outputs": [],
   "source": [
    "## Task 1: Install Pyspark !!\n",
    "# !pip install pyspark"
   ]
  },
  {
   "cell_type": "code",
   "execution_count": 3,
   "metadata": {},
   "outputs": [],
   "source": [
    "# Necessary "
   ]
  },
  {
   "cell_type": "code",
   "execution_count": 4,
   "metadata": {
    "colab": {},
    "colab_type": "code",
    "id": "VYbld8xUS53T"
   },
   "outputs": [],
   "source": [
    "from pyspark.sql import SparkSession\n",
    "from pyspark.sql.functions import count, desc, col, max, struct\n",
    "import matplotlib.pyplot as plt\n"
   ]
  },
  {
   "cell_type": "code",
   "execution_count": 5,
   "metadata": {
    "colab": {},
    "colab_type": "code",
    "id": "DaFBkRVATedZ"
   },
   "outputs": [],
   "source": [
    "## Creating sparksession \n",
    "spark =  SparkSession.builder.appName('spark_app').getOrCreate()"
   ]
  },
  {
   "cell_type": "markdown",
   "metadata": {
    "colab_type": "text",
    "id": "husKoB46U307"
   },
   "source": [
    "## Task 2: \n",
    "### Importing the Listning.csv file !"
   ]
  },
  {
   "cell_type": "code",
   "execution_count": 6,
   "metadata": {
    "colab": {},
    "colab_type": "code",
    "id": "YQuREpKaUUjZ"
   },
   "outputs": [],
   "source": [
    "listning_csv_path = 'listenings.csv'\n",
    "\n",
    "# We use spark method called read which read csv format data. \n",
    "# 'inferSchema' = True, =>, infers columns types based on the data type we have\n",
    "# 'header' = Ture => same column name as in csv file. \n",
    "listning_df = spark.read.format('csv')\\\n",
    "                        .option('inferSchema', True)\\\n",
    "                        .option('header', True)\\\n",
    "                        .load(listning_csv_path)\n",
    "\n",
    "# listning_df is a pyspark dataframe. "
   ]
  },
  {
   "cell_type": "code",
   "execution_count": 7,
   "metadata": {
    "colab": {
     "base_uri": "https://localhost:8080/",
     "height": 295
    },
    "colab_type": "code",
    "id": "_y5D6YNAU0Rh",
    "outputId": "9e251e43-dcc6-4a99-9df2-f82a3202e7f4"
   },
   "outputs": [
    {
     "name": "stdout",
     "output_type": "stream",
     "text": [
      "+-----------+-------------+--------------------+------------+--------------------+\n",
      "|    user_id|         date|               track|      artist|               album|\n",
      "+-----------+-------------+--------------------+------------+--------------------+\n",
      "|000Silenced|1299680100000|           Price Tag|    Jessie J|         Who You Are|\n",
      "|000Silenced|1299679920000|Price Tag (Acoust...|    Jessie J|           Price Tag|\n",
      "|000Silenced|1299679440000|Be Mine! (Ballad ...|       Robyn|            Be Mine!|\n",
      "|000Silenced|1299679200000|            Acapella|       Kelis|            Acapella|\n",
      "|000Silenced|1299675660000|   I'm Not Invisible|   The Tease|   I'm Not Invisible|\n",
      "|000Silenced|1297511400000|Bounce (Feat NORE...|    MSTRKRFT|         Fist of God|\n",
      "|000Silenced|1294498440000|Don't Stop The Mu...|     Rihanna|Addicted 2 Bassli...|\n",
      "|000Silenced|1292438340000|               ObZen|   Meshuggah|               ObZen|\n",
      "|000Silenced|1292437740000|   Yama's Messengers|      Gojira|The Way of All Flesh|\n",
      "|000Silenced|1292436360000|On the Brink of E...|Napalm Death|Time Waits For No...|\n",
      "+-----------+-------------+--------------------+------------+--------------------+\n",
      "only showing top 10 rows\n",
      "\n"
     ]
    }
   ],
   "source": [
    "# checking what is inside listning_df using show method\n",
    "listning_df.show(10)"
   ]
  },
  {
   "cell_type": "code",
   "execution_count": 10,
   "metadata": {
    "colab": {
     "base_uri": "https://localhost:8080/",
     "height": 208
    },
    "colab_type": "code",
    "id": "E_e7x0mnXJW8",
    "outputId": "3c561b2f-4c27-418b-e8ec-30b2dc4f369c"
   },
   "outputs": [
    {
     "name": "stdout",
     "output_type": "stream",
     "text": [
      "+-----------+--------------------+---------+-----------------+\n",
      "|    user_id|               track|   artist|            album|\n",
      "+-----------+--------------------+---------+-----------------+\n",
      "|000Silenced|           Price Tag| Jessie J|      Who You Are|\n",
      "|000Silenced|Price Tag (Acoust...| Jessie J|        Price Tag|\n",
      "|000Silenced|Be Mine! (Ballad ...|    Robyn|         Be Mine!|\n",
      "|000Silenced|            Acapella|    Kelis|         Acapella|\n",
      "|000Silenced|   I'm Not Invisible|The Tease|I'm Not Invisible|\n",
      "+-----------+--------------------+---------+-----------------+\n",
      "only showing top 5 rows\n",
      "\n"
     ]
    }
   ],
   "source": [
    "# dropping useless columns\n",
    "listning_df = listning_df.drop('date')\n",
    "# dropping the null rows\n",
    "listning_df = listning_df.na.drop()\n",
    "# checking the dataset again\n",
    "listning_df.show(5) "
   ]
  },
  {
   "cell_type": "code",
   "execution_count": 11,
   "metadata": {
    "colab": {
     "base_uri": "https://localhost:8080/",
     "height": 121
    },
    "colab_type": "code",
    "id": "FkZXCxkyZmhb",
    "outputId": "ed1240b4-98ee-4cbf-e782-3a064fc3030d"
   },
   "outputs": [
    {
     "name": "stdout",
     "output_type": "stream",
     "text": [
      "root\n",
      " |-- user_id: string (nullable = true)\n",
      " |-- track: string (nullable = true)\n",
      " |-- artist: string (nullable = true)\n",
      " |-- album: string (nullable = true)\n",
      "\n"
     ]
    }
   ],
   "source": [
    "# let's see the schema using method called printSchema\n",
    "listning_df.printSchema()"
   ]
  },
  {
   "cell_type": "code",
   "execution_count": 12,
   "metadata": {
    "colab": {
     "base_uri": "https://localhost:8080/",
     "height": 35
    },
    "colab_type": "code",
    "id": "MoPLXXUPacID",
    "outputId": "d4a0cddb-5b48-449c-d310-38ddc44c644c"
   },
   "outputs": [
    {
     "name": "stdout",
     "output_type": "stream",
     "text": [
      "(13758905, 4)\n"
     ]
    }
   ],
   "source": [
    "# let's see the shape of our dataframe!\n",
    "# check number of rows and columns in the dataset\n",
    "shape = (listning_df.count(), len(listning_df.columns))\n",
    "print(shape)\n",
    "# Pyspark dataframe doesnot have shape property like pandas dataframe"
   ]
  },
  {
   "cell_type": "code",
   "execution_count": 13,
   "metadata": {
    "colab": {
     "base_uri": "https://localhost:8080/",
     "height": 208
    },
    "colab_type": "code",
    "id": "PWXeg4114-eH",
    "outputId": "fc49b06f-acb3-4160-def1-e9d6ef008aef"
   },
   "outputs": [
    {
     "name": "stdout",
     "output_type": "stream",
     "text": [
      "+---------+--------------------+\n",
      "|   artist|               track|\n",
      "+---------+--------------------+\n",
      "| Jessie J|           Price Tag|\n",
      "| Jessie J|Price Tag (Acoust...|\n",
      "|    Robyn|Be Mine! (Ballad ...|\n",
      "|    Kelis|            Acapella|\n",
      "|The Tease|   I'm Not Invisible|\n",
      "+---------+--------------------+\n",
      "only showing top 5 rows\n",
      "\n"
     ]
    }
   ],
   "source": [
    "## Apply some query to extract useful information !!\n",
    "\n",
    "# Query 0: Select 2 columns, track and artist\n",
    "# returns dataframe which is stored in Q0 variable\n",
    "q0 = listning_df.select('artist', 'track') \n",
    "q0.show(5)"
   ]
  },
  {
   "cell_type": "code",
   "execution_count": 14,
   "metadata": {
    "colab": {
     "base_uri": "https://localhost:8080/",
     "height": 295
    },
    "colab_type": "code",
    "id": "DRZINwev7WDt",
    "outputId": "ba8c37a1-0334-4c0b-c334-c780b883ada0"
   },
   "outputs": [
    {
     "name": "stdout",
     "output_type": "stream",
     "text": [
      "+-----------+--------------------+-------+--------------------+\n",
      "|    user_id|               track| artist|               album|\n",
      "+-----------+--------------------+-------+--------------------+\n",
      "|000Silenced|Don't Stop The Mu...|Rihanna|Addicted 2 Bassli...|\n",
      "|000Silenced|           Disturbia|Rihanna|Good Girl Gone Ba...|\n",
      "|00williamsl|   Hatin On The Club|Rihanna|              Random|\n",
      "|00williamsl|   Hatin On The Club|Rihanna|              Random|\n",
      "|00williamsl|         Complicated|Rihanna|                Loud|\n",
      "|00williamsl|What's My Name (f...|Rihanna|                Loud|\n",
      "|00williamsl|Kanye West feat R...|Rihanna|                Loud|\n",
      "|    0502008|Only Girl (In the...|Rihanna|                Loud|\n",
      "|      0rdos|Pon De Replay (Re...|Rihanna|    Music of the Sun|\n",
      "|      0rdos|          Now I Know|Rihanna|    Music of the Sun|\n",
      "+-----------+--------------------+-------+--------------------+\n",
      "only showing top 10 rows\n",
      "\n"
     ]
    }
   ],
   "source": [
    "#Query 1: Let's find all the records of users who have listened to Rihanna\n",
    "q1 = listning_df.select('*').filter(listning_df.artist == 'Rihanna')\n",
    "q1.show(10)"
   ]
  },
  {
   "cell_type": "code",
   "execution_count": 15,
   "metadata": {
    "colab": {
     "base_uri": "https://localhost:8080/",
     "height": 277
    },
    "colab_type": "code",
    "id": "dJ_LmVOU8DXY",
    "outputId": "99a64cf8-44b4-4152-f73d-2c149e4510bd"
   },
   "outputs": [
    {
     "name": "stdout",
     "output_type": "stream",
     "text": [
      "+---------------+-----+\n",
      "|        user_id|count|\n",
      "+---------------+-----+\n",
      "|        thiessu|  179|\n",
      "|    eyessetkyle|  166|\n",
      "|           adxx|  164|\n",
      "|missnumberthree|  156|\n",
      "|helloiamnatalie|  128|\n",
      "|          nmjnb|  124|\n",
      "|        AndyyyA|  123|\n",
      "|     BIGBANG186|  121|\n",
      "|     mixedvibes|  120|\n",
      "|       AndyKitt|  115|\n",
      "+---------------+-----+\n",
      "\n"
     ]
    }
   ],
   "source": [
    "# Query 2: Find top 10 users who is fan of Rihanna !\n",
    "\n",
    "# Step 1:\n",
    "#  Select all the users who have listened to Rihanna\n",
    "\n",
    "# Step 2:\n",
    "# Perform agregation to count how many time each users have listened to rihanna\n",
    "\n",
    "q2 = listning_df.select('user_id')\\\n",
    "                .filter(listning_df.artist == 'Rihanna')\\\n",
    "                .groupby('user_id')\\\n",
    "                .agg(count('user_id').alias('count'))\\\n",
    "                .orderBy(desc('count'))\\\n",
    "                .limit(10)\n",
    "\n",
    "# agg -> aggregation, .alias('count') -> we are giving new column name, count !\n",
    "# orderBy is used for sorting either in ascending or descending order \n",
    "# as we need top 10 fans, we will use limit method for finding top 10 columns\n",
    "\n",
    "q2.show()"
   ]
  },
  {
   "cell_type": "code",
   "execution_count": 16,
   "metadata": {
    "colab": {
     "base_uri": "https://localhost:8080/",
     "height": 277
    },
    "colab_type": "code",
    "id": "_rzQmSad_ube",
    "outputId": "e82f4172-4bb8-4213-ae0d-784725e15d3c"
   },
   "outputs": [
    {
     "name": "stdout",
     "output_type": "stream",
     "text": [
      "+--------------+-----------------+-----+\n",
      "|        artist|            track|count|\n",
      "+--------------+-----------------+-----+\n",
      "| Justin Bieber|            Sorry| 3381|\n",
      "|Arctic Monkeys| Do I Wanna Know?| 2865|\n",
      "|      Bon Iver|      Skinny Love| 2836|\n",
      "|          Zayn|       PILLOWTALK| 2701|\n",
      "|   The Killers|    Mr Brightside| 2690|\n",
      "|       Rihanna|             Work| 2646|\n",
      "|      Bastille|          Pompeii| 2606|\n",
      "|Mumford & Sons|  Little Lion Man| 2520|\n",
      "|Mumford & Sons|         The Cave| 2485|\n",
      "| Justin Bieber|What Do You Mean?| 2481|\n",
      "+--------------+-----------------+-----+\n",
      "\n"
     ]
    }
   ],
   "source": [
    "# Query 3: Find top 10 famours track!\n",
    "\n",
    "# Note: There can by 2 same track name of 2 different artists\n",
    "# So select artist and track and use groupby on both, rather than just track\n",
    "# if more than one column, in count use '*' instead of both names!\n",
    "q3 = listning_df.select('artist','track')\\\n",
    "                .groupby('artist', 'track')\\\n",
    "                .agg(count('*').alias('count'))\\\n",
    "                .orderBy(desc('count'))\\\n",
    "                .limit(10)\n",
    "q3.show()"
   ]
  },
  {
   "cell_type": "code",
   "execution_count": 17,
   "metadata": {
    "colab": {
     "base_uri": "https://localhost:8080/",
     "height": 277
    },
    "colab_type": "code",
    "id": "BgngYVo2CmpV",
    "outputId": "ff30d24b-8be4-49f0-f198-81af1b5b3c2f"
   },
   "outputs": [
    {
     "name": "stdout",
     "output_type": "stream",
     "text": [
      "+-------+--------------------+-----+\n",
      "| artist|               track|count|\n",
      "+-------+--------------------+-----+\n",
      "|Rihanna|                Work| 2646|\n",
      "|Rihanna|Only Girl (In the...| 1749|\n",
      "|Rihanna|We Found Love (fe...| 1575|\n",
      "|Rihanna|                 S&M| 1307|\n",
      "|Rihanna|            Rude Boy| 1303|\n",
      "|Rihanna|            Diamonds| 1224|\n",
      "|Rihanna|      Kiss it Better|  945|\n",
      "|Rihanna| Where Have You Been|  844|\n",
      "|Rihanna|Cheers (Drink to ...|  697|\n",
      "|Rihanna|           Needed Me|  679|\n",
      "+-------+--------------------+-----+\n",
      "\n"
     ]
    }
   ],
   "source": [
    "# Query 4, Famous top 10 tracks of Rihanna !!\n",
    "\n",
    "q4 = listning_df.filter(listning_df.artist == 'Rihanna')\\\n",
    "                .select('artist', 'track')\\\n",
    "                .groupby('artist', 'track')\\\n",
    "                .agg(count('*').alias('count'))\\\n",
    "                .orderBy(desc('count'))\\\n",
    "                .limit(10)\n",
    "q4.show()"
   ]
  },
  {
   "cell_type": "code",
   "execution_count": 18,
   "metadata": {
    "colab": {
     "base_uri": "https://localhost:8080/",
     "height": 208
    },
    "colab_type": "code",
    "id": "5dJ1ZrXOId52",
    "outputId": "502b5cb9-1026-4e78-a214-957ffb13f4ba"
   },
   "outputs": [
    {
     "name": "stdout",
     "output_type": "stream",
     "text": [
      "+-----------+--------------------+---------+-----------------+\n",
      "|    user_id|               track|   artist|            album|\n",
      "+-----------+--------------------+---------+-----------------+\n",
      "|000Silenced|           Price Tag| Jessie J|      Who You Are|\n",
      "|000Silenced|Price Tag (Acoust...| Jessie J|        Price Tag|\n",
      "|000Silenced|Be Mine! (Ballad ...|    Robyn|         Be Mine!|\n",
      "|000Silenced|            Acapella|    Kelis|         Acapella|\n",
      "|000Silenced|   I'm Not Invisible|The Tease|I'm Not Invisible|\n",
      "+-----------+--------------------+---------+-----------------+\n",
      "only showing top 5 rows\n",
      "\n"
     ]
    }
   ],
   "source": [
    "listning_df.show(5)"
   ]
  },
  {
   "cell_type": "code",
   "execution_count": 19,
   "metadata": {
    "colab": {
     "base_uri": "https://localhost:8080/",
     "height": 277
    },
    "colab_type": "code",
    "id": "l1xcR4vxGIa-",
    "outputId": "8d53ed32-40c6-4165-eb76-2f101481e4a9"
   },
   "outputs": [
    {
     "name": "stdout",
     "output_type": "stream",
     "text": [
      "+--------------------+--------------------+-----+\n",
      "|              artist|               album|count|\n",
      "+--------------------+--------------------+-----+\n",
      "|          Kanye West|   The Life Of Pablo|22310|\n",
      "|              The xx|                  xx|14195|\n",
      "|      Arctic Monkeys|                  AM|14090|\n",
      "|               alt-J|     An Awesome Wave|13635|\n",
      "|      Mumford & Sons|        Sigh No More|13543|\n",
      "|      Arctic Monkeys|Whatever People S...|12731|\n",
      "|            Bon Iver|            For Emma|11994|\n",
      "|              Grimes|          Art Angels|11655|\n",
      "|Florence + the Ma...|               Lungs|11362|\n",
      "|               Adele|                  21|11215|\n",
      "+--------------------+--------------------+-----+\n",
      "\n"
     ]
    }
   ],
   "source": [
    "# Query 5, Find top 10 famous album !\n",
    "# groupby is done by both artist and album as there may be same album\n",
    "# by different artist\n",
    "q5 = listning_df.select('artist', 'album')\\\n",
    "                .groupby('artist', 'album')\\\n",
    "                .agg(count('*').alias('count'))\\\n",
    "                .orderBy(desc('count'))\\\n",
    "                .limit(10)\n",
    "q5.show()"
   ]
  },
  {
   "cell_type": "code",
   "execution_count": 21,
   "metadata": {
    "colab": {},
    "colab_type": "code",
    "id": "JL8EqKdyJMuO"
   },
   "outputs": [],
   "source": [
    "# Task 4: Importing Genre csv file !!\n",
    "genre_csv_path = 'genre.csv'\n",
    "genre_df = spark.read.format('csv')\\\n",
    "                      .option('inferSchema', True)\\\n",
    "                      .option('header', True)\\\n",
    "                      .load(genre_csv_path)"
   ]
  },
  {
   "cell_type": "code",
   "execution_count": 22,
   "metadata": {
    "colab": {
     "base_uri": "https://localhost:8080/",
     "height": 208
    },
    "colab_type": "code",
    "id": "GveFhiacO7Ya",
    "outputId": "7cc2241d-165d-4758-c3c0-469ba4221be6"
   },
   "outputs": [
    {
     "name": "stdout",
     "output_type": "stream",
     "text": [
      "+----------+-----+\n",
      "|    artist|genre|\n",
      "+----------+-----+\n",
      "|      Muse| rock|\n",
      "|   Nirvana| rock|\n",
      "|  Bon Jovi| rock|\n",
      "|The Police| rock|\n",
      "|      Kiss| rock|\n",
      "+----------+-----+\n",
      "only showing top 5 rows\n",
      "\n"
     ]
    }
   ],
   "source": [
    "genre_df.show(5)"
   ]
  },
  {
   "cell_type": "code",
   "execution_count": 23,
   "metadata": {
    "colab": {
     "base_uri": "https://localhost:8080/",
     "height": 208
    },
    "colab_type": "code",
    "id": "YNklLytcPqdm",
    "outputId": "42fd2faa-7966-404f-98ab-34ebd2e1a79a"
   },
   "outputs": [
    {
     "name": "stdout",
     "output_type": "stream",
     "text": [
      "+-----------+--------------------+---------+-----------------+\n",
      "|    user_id|               track|   artist|            album|\n",
      "+-----------+--------------------+---------+-----------------+\n",
      "|000Silenced|           Price Tag| Jessie J|      Who You Are|\n",
      "|000Silenced|Price Tag (Acoust...| Jessie J|        Price Tag|\n",
      "|000Silenced|Be Mine! (Ballad ...|    Robyn|         Be Mine!|\n",
      "|000Silenced|            Acapella|    Kelis|         Acapella|\n",
      "|000Silenced|   I'm Not Invisible|The Tease|I'm Not Invisible|\n",
      "+-----------+--------------------+---------+-----------------+\n",
      "only showing top 5 rows\n",
      "\n"
     ]
    }
   ],
   "source": [
    "listning_df.show(5)"
   ]
  },
  {
   "cell_type": "code",
   "execution_count": 24,
   "metadata": {
    "colab": {
     "base_uri": "https://localhost:8080/",
     "height": 468
    },
    "colab_type": "code",
    "id": "S5MSv8XJP_xN",
    "outputId": "f9f806ca-a41e-403f-d102-b2149043d029"
   },
   "outputs": [
    {
     "name": "stdout",
     "output_type": "stream",
     "text": [
      "+------------+-----------+--------------------+--------------------+--------------------+\n",
      "|      artist|    user_id|               track|               album|               genre|\n",
      "+------------+-----------+--------------------+--------------------+--------------------+\n",
      "|    Jessie J|000Silenced|           Price Tag|         Who You Are| Ariana Grande & ...|\n",
      "|    Jessie J|000Silenced|           Price Tag|         Who You Are| Jhene Aiko & Rixton|\n",
      "|    Jessie J|000Silenced|           Price Tag|         Who You Are| Nicki Minaj & Ar...|\n",
      "|    Jessie J|000Silenced|           Price Tag|         Who You Are|                 pop|\n",
      "|    Jessie J|000Silenced|Price Tag (Acoust...|           Price Tag| Ariana Grande & ...|\n",
      "|    Jessie J|000Silenced|Price Tag (Acoust...|           Price Tag| Jhene Aiko & Rixton|\n",
      "|    Jessie J|000Silenced|Price Tag (Acoust...|           Price Tag| Nicki Minaj & Ar...|\n",
      "|    Jessie J|000Silenced|Price Tag (Acoust...|           Price Tag|                 pop|\n",
      "|       Robyn|000Silenced|Be Mine! (Ballad ...|            Be Mine!|                 pop|\n",
      "|       Kelis|000Silenced|            Acapella|            Acapella|                 pop|\n",
      "|   The Tease|000Silenced|   I'm Not Invisible|   I'm Not Invisible|             hip hop|\n",
      "|    MSTRKRFT|000Silenced|Bounce (Feat NORE...|         Fist of God|          electronic|\n",
      "|     Rihanna|000Silenced|Don't Stop The Mu...|Addicted 2 Bassli...|                 SZA|\n",
      "|     Rihanna|000Silenced|Don't Stop The Mu...|Addicted 2 Bassli...| Paul McCartney &...|\n",
      "|     Rihanna|000Silenced|Don't Stop The Mu...|Addicted 2 Bassli...|          Kanye West|\n",
      "|     Rihanna|000Silenced|Don't Stop The Mu...|Addicted 2 Bassli...| Kanye West & Pau...|\n",
      "|     Rihanna|000Silenced|Don't Stop The Mu...|Addicted 2 Bassli...|                 pop|\n",
      "|   Meshuggah|000Silenced|               ObZen|               ObZen|               metal|\n",
      "|      Gojira|000Silenced|   Yama's Messengers|The Way of All Flesh|               metal|\n",
      "|Napalm Death|000Silenced|On the Brink of E...|Time Waits For No...|           grindcore|\n",
      "+------------+-----------+--------------------+--------------------+--------------------+\n",
      "only showing top 20 rows\n",
      "\n"
     ]
    }
   ],
   "source": [
    "# Let's inner join the two dataframe !\n",
    "# We will use .join method to merge both dataframe\n",
    "\n",
    "data = listning_df.join(genre_df, how = 'inner', on = ['artist'])\n",
    "data.show()"
   ]
  },
  {
   "cell_type": "code",
   "execution_count": 25,
   "metadata": {
    "colab": {
     "base_uri": "https://localhost:8080/",
     "height": 277
    },
    "colab_type": "code",
    "id": "ZKPy0RE1dDRo",
    "outputId": "f3c94780-e020-4866-b4d6-b863bbb50cd5"
   },
   "outputs": [
    {
     "name": "stdout",
     "output_type": "stream",
     "text": [
      "+---------------+-----+\n",
      "|        user_id|count|\n",
      "+---------------+-----+\n",
      "|        01Green|  496|\n",
      "|      momousagi|  400|\n",
      "|          mrpsb|  400|\n",
      "|   BlueKnockOut|  378|\n",
      "|    musicboy80s|  376|\n",
      "|  incultojurgis|  374|\n",
      "| ElektricOrchid|  370|\n",
      "|foreign_fanatic|  350|\n",
      "|   Kevin_Soutar|  346|\n",
      "|  landrover2171|  301|\n",
      "+---------------+-----+\n",
      "\n"
     ]
    }
   ],
   "source": [
    "# Query 6: Find top 10 users who are fan of pop music\n",
    "\n",
    "q6 = data.filter(data.genre == 'pop')\\\n",
    "         .select('user_id')\\\n",
    "         .groupby('user_id')\\\n",
    "         .agg(count('*').alias('count'))\\\n",
    "         .orderBy(desc('count'))\\\n",
    "         .limit(10)\n",
    "\n",
    "q6.show()"
   ]
  },
  {
   "cell_type": "code",
   "execution_count": 26,
   "metadata": {
    "colab": {
     "base_uri": "https://localhost:8080/",
     "height": 277
    },
    "colab_type": "code",
    "id": "JQwQYZ4riXlK",
    "outputId": "3f09f103-497d-469f-a089-428d8fef4519"
   },
   "outputs": [
    {
     "name": "stdout",
     "output_type": "stream",
     "text": [
      "+----------+-------+\n",
      "|     genre|  count|\n",
      "+----------+-------+\n",
      "|      rock|2691934|\n",
      "|       pop|1544747|\n",
      "|electronic| 551509|\n",
      "|   hip hop| 532984|\n",
      "|      folk| 438174|\n",
      "|indie rock| 431439|\n",
      "|      punk| 380915|\n",
      "|       r&b| 344101|\n",
      "|     metal| 208107|\n",
      "|     indie| 206726|\n",
      "+----------+-------+\n",
      "\n"
     ]
    }
   ],
   "source": [
    "# Query 7: Find top 10 famous genre !!\n",
    "q7 = data.select('genre')\\\n",
    "         .groupby('genre')\\\n",
    "         .agg(count('*').alias('count'))\\\n",
    "         .orderBy(desc('count'))\\\n",
    "         .limit(10)\n",
    "\n",
    "q7.show()"
   ]
  },
  {
   "cell_type": "markdown",
   "metadata": {
    "colab_type": "text",
    "id": "tPdCtafwn1dV"
   },
   "source": [
    "## Task 5"
   ]
  },
  {
   "cell_type": "code",
   "execution_count": 27,
   "metadata": {
    "colab": {
     "base_uri": "https://localhost:8080/",
     "height": 208
    },
    "colab_type": "code",
    "id": "2mTtCcAUflIp",
    "outputId": "8071e164-0505-4b34-bd1e-ab0eb85e3ebf"
   },
   "outputs": [
    {
     "name": "stdout",
     "output_type": "stream",
     "text": [
      "+-------+--------------------+-----+\n",
      "|user_id|               genre|count|\n",
      "+-------+--------------------+-----+\n",
      "| --Seph|                soul|    1|\n",
      "| --Seph|          Thom Yorke|    2|\n",
      "| --Seph|           classical|   31|\n",
      "| --Seph|     Jennifer Vyvyan|    1|\n",
      "| --Seph| Tamás Vásáry & Y...|    1|\n",
      "+-------+--------------------+-----+\n",
      "only showing top 5 rows\n",
      "\n"
     ]
    }
   ],
   "source": [
    "# Query 8: Find out each user's favourite genre !\n",
    "\n",
    "# Step 1 - How many times each users have listened to specific genre \n",
    "q8_1 = data.select('user_id', 'genre')\\\n",
    "           .groupby('user_id', 'genre')\\\n",
    "           .agg(count('*').alias('count'))\\\n",
    "           .orderBy('user_id')\n",
    "q8_1.show(5)"
   ]
  },
  {
   "cell_type": "code",
   "execution_count": 28,
   "metadata": {
    "colab": {
     "base_uri": "https://localhost:8080/",
     "height": 208
    },
    "colab_type": "code",
    "id": "FtL_eIDVgUNQ",
    "outputId": "69bc5e77-3701-4e82-af3d-5dbc5f48df90"
   },
   "outputs": [
    {
     "name": "stdout",
     "output_type": "stream",
     "text": [
      "+-------------+-----------+\n",
      "|      user_id|      genre|\n",
      "+-------------+-----------+\n",
      "|      -Gemma-|british pop|\n",
      "|      247flix|   synthpop|\n",
      "|   A3sahaettr|      metal|\n",
      "|      AYFBlog| indie rock|\n",
      "|AdamMcSpaddam|       rock|\n",
      "+-------------+-----------+\n",
      "only showing top 5 rows\n",
      "\n"
     ]
    }
   ],
   "source": [
    "# Step 2 - Genre he/she have listened to a maximum number of times !                    \n",
    "q8_2 = q8_1.groupby('user_id')\\\n",
    "           .agg(max(struct(col('count'), col('genre'))).alias('max'))\\\n",
    "           .select(col('user_id'), col('max.genre'))\n",
    "q8_2.show(5)"
   ]
  },
  {
   "cell_type": "code",
   "execution_count": 29,
   "metadata": {
    "colab": {
     "base_uri": "https://localhost:8080/",
     "height": 173
    },
    "colab_type": "code",
    "id": "kjLq05wdtUPd",
    "outputId": "e953b301-2cd2-41a2-fbdd-558eebc38c45"
   },
   "outputs": [
    {
     "name": "stdout",
     "output_type": "stream",
     "text": [
      "+-------+-----+\n",
      "|  genre|count|\n",
      "+-------+-----+\n",
      "|    pop| 6960|\n",
      "|hip hop| 4288|\n",
      "|  metal| 1854|\n",
      "|   rock| 9066|\n",
      "+-------+-----+\n",
      "\n"
     ]
    }
   ],
   "source": [
    "# Query 9: Find out how many rock, pop, metal and hiphop singer we have !\n",
    "q9 = genre_df.select('genre')\\\n",
    "             .filter((col('genre') == 'pop') | (col('genre') == 'rock') | (col('genre') == 'metal') | (col('genre') == 'hip hop'))\\\n",
    "             .groupby('genre')\\\n",
    "             .agg(count('genre').alias('count'))\n",
    "q9.show(5)"
   ]
  },
  {
   "cell_type": "code",
   "execution_count": 30,
   "metadata": {
    "colab": {
     "base_uri": "https://localhost:8080/",
     "height": 87
    },
    "colab_type": "code",
    "id": "fasN0GVE24Hn",
    "outputId": "16f82f9f-9365-43f6-cda9-eb3ddc25318b"
   },
   "outputs": [
    {
     "data": {
      "text/plain": [
       "[Row(genre='pop', count=6960),\n",
       " Row(genre='hip hop', count=4288),\n",
       " Row(genre='metal', count=1854),\n",
       " Row(genre='rock', count=9066)]"
      ]
     },
     "execution_count": 30,
     "metadata": {},
     "output_type": "execute_result"
    }
   ],
   "source": [
    "# Now let's visualize using matplotlib !\n",
    "# .collect() method returns list object of data. \n",
    "q9.collect()"
   ]
  },
  {
   "cell_type": "code",
   "execution_count": 31,
   "metadata": {
    "colab": {},
    "colab_type": "code",
    "id": "eaRqVieJ3H7q"
   },
   "outputs": [],
   "source": [
    "# Storing the list in q9_list\n",
    "q9_list = q9.collect()\n",
    "\n",
    "labels = [row['genre'] for row in q9_list]\n",
    "counts = [row['count'] for row in q9_list]"
   ]
  },
  {
   "cell_type": "code",
   "execution_count": 32,
   "metadata": {
    "colab": {
     "base_uri": "https://localhost:8080/",
     "height": 283
    },
    "colab_type": "code",
    "id": "kKBdiAPH3iHx",
    "outputId": "32797ef7-1c8c-47a4-c30f-fe946055e451"
   },
   "outputs": [
    {
     "data": {
      "text/plain": [
       "<BarContainer object of 4 artists>"
      ]
     },
     "execution_count": 32,
     "metadata": {},
     "output_type": "execute_result"
    },
    {
     "data": {
      "image/png": "[encoded data removed]",
      "text/plain": [
       "<Figure size 432x288 with 1 Axes>"
      ]
     },
     "metadata": {
      "needs_background": "light"
     },
     "output_type": "display_data"
    }
   ],
   "source": [
    "# Now Bar chart \n",
    "plt.bar(labels, counts)"
   ]
  },
  {
   "cell_type": "code",
   "execution_count": null,
   "metadata": {
    "colab": {},
    "colab_type": "code",
    "id": "EyX-j5xi3_HB"
   },
   "outputs": [],
   "source": []
  }
 ],
 "metadata": {
  "colab": {
   "collapsed_sections": [],
   "name": "Data Analytics with Spark.ipynb",
   "provenance": []
  },
  "kernelspec": {
   "display_name": "Python 3",
   "language": "python",
   "name": "python3"
  },
  "language_info": {
   "codemirror_mode": {
    "name": "ipython",
    "version": 3
   },
   "file_extension": ".py",
   "mimetype": "text/x-python",
   "name": "python",
   "nbconvert_exporter": "python",
   "pygments_lexer": "ipython3",
   "version": "3.7.9"
  }
 },
 "nbformat": 4,
 "nbformat_minor": 4
}
